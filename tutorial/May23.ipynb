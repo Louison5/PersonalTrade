{
 "cells": [
  {
   "attachments": {},
   "cell_type": "markdown",
   "metadata": {},
   "source": [
    "# Models(5.23)\n",
    "This tutorial is to demonstrate to use simple policy gradient agents for portfolio management, specifically we deal with different model and how to visualize and train them today"
   ]
  },
  {
   "attachments": {},
   "cell_type": "markdown",
   "metadata": {},
   "source": [
    "## Step1: Import Packages"
   ]
  },
  {
   "cell_type": "code",
   "execution_count": 1,
   "metadata": {},
   "outputs": [
    {
     "name": "stderr",
     "output_type": "stream",
     "text": [
      "2023-05-23 20:45:31,154\tINFO worker.py:1616 -- Started a local Ray instance. View the dashboard at \u001b[1m\u001b[32m127.0.0.1:8265 \u001b[39m\u001b[22m\n",
      "2023-05-23 20:45:34,085\tINFO worker.py:1454 -- Calling ray.init() again after it has already been called.\n",
      "2023-05-23 20:45:34,152\tINFO worker.py:1454 -- Calling ray.init() again after it has already been called.\n"
     ]
    }
   ],
   "source": [
    "%load_ext autoreload\n",
    "%autoreload 2\n",
    "import warnings\n",
    "warnings.filterwarnings(\"ignore\")\n",
    "import sys\n",
    "from pathlib import Path\n",
    "import os\n",
    "import torch\n",
    "# to make trademaster accessible from all viewpoints like ray rllib\n",
    "import sys\n",
    "sys.path.append('../trademaster')\n",
    "\n",
    "ROOT = os.path.dirname(os.path.abspath(\".\"))\n",
    "sys.path.append(ROOT)\n",
    "\n",
    "import argparse\n",
    "import os.path as osp\n",
    "from mmcv import Config\n",
    "import trademaster\n",
    "from trademaster.utils import replace_cfg_vals\n",
    "from trademaster.nets.builder import build_net\n",
    "from trademaster.environments.builder import build_environment\n",
    "from trademaster.datasets.builder import build_dataset\n",
    "from trademaster.agents.builder import build_agent\n",
    "from trademaster.optimizers.builder import build_optimizer\n",
    "from trademaster.losses.builder import build_loss\n",
    "from trademaster.trainers.builder import build_trainer\n",
    "from trademaster.utils import plot\n",
    "from trademaster.utils import set_seed\n",
    "import matplotlib.pyplot as plt\n",
    "set_seed(2023)"
   ]
  },
  {
   "attachments": {},
   "cell_type": "markdown",
   "metadata": {},
   "source": [
    "## Take a look at Environment"
   ]
  },
  {
   "cell_type": "code",
   "execution_count": 2,
   "metadata": {},
   "outputs": [],
   "source": [
    "from trademaster.environments.portfolio_management.environment import PortfolioManagementEnvironment\n",
    "from ray.tune.registry import register_env\n",
    "cfg = dict(\n",
    "    data = dict(\n",
    "        type = \"PortfolioManagementDataset\",\n",
    "        data_path = \"data/portfolio_management/sz50\",\n",
    "        train_path = \"data/portfolio_management/sz50/train.csv\",\n",
    "        valid_path = \"data/portfolio_management/sz50/valid.csv\",\n",
    "        test_path = \"data/portfolio_management/sz50/test.csv\",\n",
    "        test_dynamic_path='data/portfolio_management/sz50/test.csv',\n",
    "        tech_indicator_list = [\n",
    "            \"zopen\",\n",
    "            \"zhigh\",\n",
    "            \"zlow\",\n",
    "            \"zadjcp\",\n",
    "            \"zclose\",\n",
    "            \"zd_5\",\n",
    "            \"zd_10\",\n",
    "            \"zd_15\",\n",
    "            \"zd_20\",\n",
    "            \"zd_25\",\n",
    "            \"zd_30\"\n",
    "        ],\n",
    "        initial_amount = 100000,\n",
    "        transaction_cost_pct = 0.001\n",
    "    )\n",
    ")\n",
    "cfg=Config(cfg)\n",
    "dataset = build_dataset(cfg)\n",
    "cfg2 = dict(dataset=dataset)\n",
    "env = PortfolioManagementEnvironment(cfg2)\n",
    "register_env(\"portfolio_management\", lambda config: PortfolioManagementEnvironment(config))"
   ]
  },
  {
   "attachments": {},
   "cell_type": "markdown",
   "metadata": {},
   "source": [
    "## Play a single step with a random agent"
   ]
  },
  {
   "cell_type": "code",
   "execution_count": 3,
   "metadata": {},
   "outputs": [
    {
     "name": "stderr",
     "output_type": "stream",
     "text": [
      "\u001b[2m\u001b[33m(raylet)\u001b[0m [2023-05-23 20:45:40,186 E 69732 3621693] (raylet) file_system_monitor.cc:111: /tmp/ray/session_2023-05-23_20-45-27_466441_69707 is over 95% full, available space: 24088805376; capacity: 499963174912. Object creation will fail if spilling is required.\n"
     ]
    },
    {
     "name": "stdout",
     "output_type": "stream",
     "text": [
      "0.0004\n"
     ]
    },
    {
     "data": {
      "text/html": [
       "<div class=\"tuneStatus\">\n",
       "  <div style=\"display: flex;flex-direction: row\">\n",
       "    <div style=\"display: flex;flex-direction: column;\">\n",
       "      <h3>Tune Status</h3>\n",
       "      <table>\n",
       "<tbody>\n",
       "<tr><td>Current time:</td><td>2023-05-23 20:46:20</td></tr>\n",
       "<tr><td>Running for: </td><td>00:00:31.66        </td></tr>\n",
       "<tr><td>Memory:      </td><td>10.2/16.0 GiB      </td></tr>\n",
       "</tbody>\n",
       "</table>\n",
       "    </div>\n",
       "    <div class=\"vDivider\"></div>\n",
       "    <div class=\"systemInfo\">\n",
       "      <h3>System Info</h3>\n",
       "      Using FIFO scheduling algorithm.<br>Logical resource usage: 2.0/8 CPUs, 0/0 GPUs\n",
       "    </div>\n",
       "    \n",
       "  </div>\n",
       "  <div class=\"hDivider\"></div>\n",
       "  <div class=\"trialStatus\">\n",
       "    <h3>Trial Status</h3>\n",
       "    <table>\n",
       "<thead>\n",
       "<tr><th>Trial name                                              </th><th>status  </th><th>loc  </th><th style=\"text-align: right;\">    lr</th></tr>\n",
       "</thead>\n",
       "<tbody>\n",
       "<tr><td>PG_&lt;PortfolioManagementEnvironment instance&gt;_be4cd_00000</td><td>RUNNING </td><td>     </td><td style=\"text-align: right;\">0.001 </td></tr>\n",
       "<tr><td>PG_&lt;PortfolioManagementEnvironment instance&gt;_be4cd_00001</td><td>RUNNING </td><td>     </td><td style=\"text-align: right;\">0.0001</td></tr>\n",
       "</tbody>\n",
       "</table>\n",
       "  </div>\n",
       "</div>\n",
       "<style>\n",
       ".tuneStatus {\n",
       "  color: var(--jp-ui-font-color1);\n",
       "}\n",
       ".tuneStatus .systemInfo {\n",
       "  display: flex;\n",
       "  flex-direction: column;\n",
       "}\n",
       ".tuneStatus td {\n",
       "  white-space: nowrap;\n",
       "}\n",
       ".tuneStatus .trialStatus {\n",
       "  display: flex;\n",
       "  flex-direction: column;\n",
       "}\n",
       ".tuneStatus h3 {\n",
       "  font-weight: bold;\n",
       "}\n",
       ".tuneStatus .hDivider {\n",
       "  border-bottom-width: var(--jp-border-width);\n",
       "  border-bottom-color: var(--jp-border-color0);\n",
       "  border-bottom-style: solid;\n",
       "}\n",
       ".tuneStatus .vDivider {\n",
       "  border-left-width: var(--jp-border-width);\n",
       "  border-left-color: var(--jp-border-color0);\n",
       "  border-left-style: solid;\n",
       "  margin: 0.5em 1em 0.5em 1em;\n",
       "}\n",
       "</style>\n"
      ],
      "text/plain": [
       "<IPython.core.display.HTML object>"
      ]
     },
     "metadata": {},
     "output_type": "display_data"
    },
    {
     "name": "stderr",
     "output_type": "stream",
     "text": [
      "\u001b[2m\u001b[33m(raylet)\u001b[0m [2023-05-23 20:45:50,243 E 69732 3621693] (raylet) file_system_monitor.cc:111: /tmp/ray/session_2023-05-23_20-45-27_466441_69707 is over 95% full, available space: 24034652160; capacity: 499963174912. Object creation will fail if spilling is required.\n",
      "\u001b[2m\u001b[33m(raylet)\u001b[0m [2023-05-23 20:46:00,311 E 69732 3621693] (raylet) file_system_monitor.cc:111: /tmp/ray/session_2023-05-23_20-45-27_466441_69707 is over 95% full, available space: 23992242176; capacity: 499963174912. Object creation will fail if spilling is required.\n",
      "\u001b[2m\u001b[36m(PG pid=69746)\u001b[0m 2023-05-23 20:46:05,639\tERROR serialization.py:387 -- No module named 'trademaster'\n",
      "\u001b[2m\u001b[36m(PG pid=69746)\u001b[0m Traceback (most recent call last):\n",
      "\u001b[2m\u001b[36m(PG pid=69746)\u001b[0m   File \"/Users/louison/opt/anaconda3/envs/TradeMaster/lib/python3.9/site-packages/ray/_private/serialization.py\", line 385, in deserialize_objects\n",
      "\u001b[2m\u001b[36m(PG pid=69746)\u001b[0m     obj = self._deserialize_object(data, metadata, object_ref)\n",
      "\u001b[2m\u001b[36m(PG pid=69746)\u001b[0m   File \"/Users/louison/opt/anaconda3/envs/TradeMaster/lib/python3.9/site-packages/ray/_private/serialization.py\", line 268, in _deserialize_object\n",
      "\u001b[2m\u001b[36m(PG pid=69746)\u001b[0m     return self._deserialize_msgpack_data(data, metadata_fields)\n",
      "\u001b[2m\u001b[36m(PG pid=69746)\u001b[0m   File \"/Users/louison/opt/anaconda3/envs/TradeMaster/lib/python3.9/site-packages/ray/_private/serialization.py\", line 223, in _deserialize_msgpack_data\n",
      "\u001b[2m\u001b[36m(PG pid=69746)\u001b[0m     python_objects = self._deserialize_pickle5_data(pickle5_data)\n",
      "\u001b[2m\u001b[36m(PG pid=69746)\u001b[0m   File \"/Users/louison/opt/anaconda3/envs/TradeMaster/lib/python3.9/site-packages/ray/_private/serialization.py\", line 211, in _deserialize_pickle5_data\n",
      "\u001b[2m\u001b[36m(PG pid=69746)\u001b[0m     obj = pickle.loads(in_band, buffers=buffers)\n",
      "\u001b[2m\u001b[36m(PG pid=69746)\u001b[0m ModuleNotFoundError: No module named 'trademaster'\n",
      "\u001b[2m\u001b[36m(PG pid=69746)\u001b[0m 2023-05-23 20:46:05,642\tERROR worker.py:844 -- Exception raised in creation task: The actor died because of an error raised in its creation task, \u001b[36mray::PG.__init__()\u001b[39m (pid=69746, ip=127.0.0.1, repr=PG)\n",
      "\u001b[2m\u001b[36m(PG pid=69746)\u001b[0m   At least one of the input arguments for this task could not be computed:\n",
      "\u001b[2m\u001b[36m(PG pid=69746)\u001b[0m ray.exceptions.RaySystemError: System error: No module named 'trademaster'\n",
      "\u001b[2m\u001b[36m(PG pid=69746)\u001b[0m traceback: Traceback (most recent call last):\n",
      "\u001b[2m\u001b[36m(PG pid=69746)\u001b[0m ModuleNotFoundError: No module named 'trademaster'\n",
      "\u001b[2m\u001b[33m(raylet)\u001b[0m [2023-05-23 20:46:10,391 E 69732 3621693] (raylet) file_system_monitor.cc:111: /tmp/ray/session_2023-05-23_20-45-27_466441_69707 is over 95% full, available space: 23954362368; capacity: 499963174912. Object creation will fail if spilling is required.\n",
      "2023-05-23 20:46:20,513\tERROR trial_runner.py:1450 -- Trial PG_<PortfolioManagementEnvironment instance>_be4cd_00000: Error happened when processing _ExecutorEventType.TRAINING_RESULT.\n",
      "ray.tune.error._TuneNoNextExecutorEventError: Traceback (most recent call last):\n",
      "  File \"/Users/louison/opt/anaconda3/envs/TradeMaster/lib/python3.9/site-packages/ray/tune/execution/ray_trial_executor.py\", line 1231, in get_next_executor_event\n",
      "    future_result = ray.get(ready_future)\n",
      "  File \"/Users/louison/opt/anaconda3/envs/TradeMaster/lib/python3.9/site-packages/ray/_private/client_mode_hook.py\", line 105, in wrapper\n",
      "    return func(*args, **kwargs)\n",
      "  File \"/Users/louison/opt/anaconda3/envs/TradeMaster/lib/python3.9/site-packages/ray/_private/worker.py\", line 2523, in get\n",
      "    raise value\n",
      "ray.exceptions.RayActorError: The actor died because of an error raised in its creation task, \u001b[36mray::PG.__init__()\u001b[39m (pid=69746, ip=127.0.0.1, repr=PG)\n",
      "  At least one of the input arguments for this task could not be computed:\n",
      "ray.exceptions.RaySystemError: System error: No module named 'trademaster'\n",
      "traceback: Traceback (most recent call last):\n",
      "ModuleNotFoundError: No module named 'trademaster'\n",
      "\n"
     ]
    },
    {
     "data": {
      "text/html": [
       "<div class=\"trialProgress\">\n",
       "  <h3>Trial Progress</h3>\n",
       "  <table>\n",
       "<thead>\n",
       "<tr><th>Trial name                                              </th><th>trial_id   </th></tr>\n",
       "</thead>\n",
       "<tbody>\n",
       "<tr><td>PG_&lt;PortfolioManagementEnvironment instance&gt;_be4cd_00000</td><td>be4cd_00000</td></tr>\n",
       "<tr><td>PG_&lt;PortfolioManagementEnvironment instance&gt;_be4cd_00001</td><td>be4cd_00001</td></tr>\n",
       "</tbody>\n",
       "</table>\n",
       "</div>\n",
       "<style>\n",
       ".trialProgress {\n",
       "  display: flex;\n",
       "  flex-direction: column;\n",
       "  color: var(--jp-ui-font-color1);\n",
       "}\n",
       ".trialProgress h3 {\n",
       "  font-weight: bold;\n",
       "}\n",
       ".trialProgress td {\n",
       "  white-space: nowrap;\n",
       "}\n",
       "</style>\n"
      ],
      "text/plain": [
       "<IPython.core.display.HTML object>"
      ]
     },
     "metadata": {},
     "output_type": "display_data"
    },
    {
     "name": "stderr",
     "output_type": "stream",
     "text": [
      "\u001b[2m\u001b[33m(raylet)\u001b[0m [2023-05-23 20:46:20,466 E 69732 3621693] (raylet) file_system_monitor.cc:111: /tmp/ray/session_2023-05-23_20-45-27_466441_69707 is over 95% full, available space: 23954374656; capacity: 499963174912. Object creation will fail if spilling is required.\n",
      "\u001b[2m\u001b[36m(PG pid=69753)\u001b[0m ModuleNotFoundError: No module named 'trademaster'\n",
      "\u001b[2m\u001b[36m(PG pid=69753)\u001b[0m ModuleNotFoundError: No module named 'trademaster'\n",
      "\u001b[2m\u001b[36m(PG pid=69753)\u001b[0m ModuleNotFoundError: No module named 'trademaster'\n",
      "\u001b[2m\u001b[36m(PG pid=69753)\u001b[0m ModuleNotFoundError: No module named 'trademaster'\n",
      "\u001b[2m\u001b[36m(PG pid=69753)\u001b[0m ModuleNotFoundError: No module named 'trademaster'\n",
      "\u001b[2m\u001b[36m(PG pid=69753)\u001b[0m ModuleNotFoundError: No module named 'trademaster'\n",
      "\u001b[2m\u001b[36m(PG pid=69753)\u001b[0m ModuleNotFoundError: No module named 'trademaster'\n",
      "\u001b[2m\u001b[36m(PG pid=69753)\u001b[0m ModuleNotFoundError: No module named 'trademaster'\n",
      "\u001b[2m\u001b[36m(PG pid=69753)\u001b[0m ModuleNotFoundError: No module named 'trademaster'\n",
      "\u001b[2m\u001b[36m(PG pid=69753)\u001b[0m ModuleNotFoundError: No module named 'trademaster'\n",
      "\u001b[2m\u001b[36m(PG pid=69753)\u001b[0m ModuleNotFoundError: No module named 'trademaster'\u001b[32m [repeated 2x across cluster] (Ray deduplicates logs by default. Set RAY_DEDUP_LOGS=0 to disable log deduplication, or see https://docs.ray.io/en/master/ray-observability/ray-logging.html#log-deduplication for more options.)\u001b[0m\n",
      "\u001b[2m\u001b[36m(PG pid=69753)\u001b[0m ModuleNotFoundError: No module named 'trademaster'\n",
      "\u001b[2m\u001b[36m(PG pid=69753)\u001b[0m ModuleNotFoundError: No module named 'trademaster'\n",
      "\u001b[2m\u001b[36m(PG pid=69753)\u001b[0m ModuleNotFoundError: No module named 'trademaster'\n",
      "\u001b[2m\u001b[36m(PG pid=69753)\u001b[0m ModuleNotFoundError: No module named 'trademaster'\n",
      "2023-05-23 20:46:22,213\tERROR ray_trial_executor.py:883 -- An exception occurred when trying to stop the Ray actor:Traceback (most recent call last):\n",
      "  File \"/Users/louison/opt/anaconda3/envs/TradeMaster/lib/python3.9/site-packages/ray/tune/execution/ray_trial_executor.py\", line 874, in _resolve_stop_event\n",
      "    ray.get(future, timeout=timeout)\n",
      "  File \"/Users/louison/opt/anaconda3/envs/TradeMaster/lib/python3.9/site-packages/ray/_private/client_mode_hook.py\", line 105, in wrapper\n",
      "    return func(*args, **kwargs)\n",
      "  File \"/Users/louison/opt/anaconda3/envs/TradeMaster/lib/python3.9/site-packages/ray/_private/worker.py\", line 2523, in get\n",
      "    raise value\n",
      "ray.exceptions.RayActorError: The actor died because of an error raised in its creation task, \u001b[36mray::PG.__init__()\u001b[39m (pid=69746, ip=127.0.0.1, repr=PG)\n",
      "  At least one of the input arguments for this task could not be computed:\n",
      "ray.exceptions.RaySystemError: System error: No module named 'trademaster'\n",
      "traceback: Traceback (most recent call last):\n",
      "ModuleNotFoundError: No module named 'trademaster'\n",
      "\n",
      "2023-05-23 20:46:22,219\tERROR tune.py:941 -- Trials did not complete: [PG_<PortfolioManagementEnvironment instance>_be4cd_00000, PG_<PortfolioManagementEnvironment instance>_be4cd_00001]\n",
      "2023-05-23 20:46:22,222\tINFO tune.py:945 -- Total run time: 33.44 seconds (32.63 seconds for the tuning loop).\n"
     ]
    },
    {
     "data": {
      "text/plain": [
       "ResultGrid<[\n",
       "  Result(\n",
       "    error='TuneError',\n",
       "    metrics={'trial_id': 'be4cd_00000'},\n",
       "    path='/Users/louison/ray_results/PG/PG_<PortfolioManagementEnvironment instance>_be4cd_00000_0_lr=0.0010_2023-05-23_20-45-49',\n",
       "    checkpoint=None\n",
       "  ),\n",
       "  Result(\n",
       "    error='TuneError',\n",
       "    metrics={'trial_id': 'be4cd_00001'},\n",
       "    path='/Users/louison/ray_results/PG/PG_<PortfolioManagementEnvironment instance>_be4cd_00001_1_lr=0.0001_2023-05-23_20-46-05',\n",
       "    checkpoint=None\n",
       "  )\n",
       "]>"
      ]
     },
     "execution_count": 3,
     "metadata": {},
     "output_type": "execute_result"
    },
    {
     "name": "stderr",
     "output_type": "stream",
     "text": [
      "\u001b[2m\u001b[33m(raylet)\u001b[0m [2023-05-23 20:46:30,548 E 69732 3621693] (raylet) file_system_monitor.cc:111: /tmp/ray/session_2023-05-23_20-45-27_466441_69707 is over 95% full, available space: 23953186816; capacity: 499963174912. Object creation will fail if spilling is required.\n",
      "\u001b[2m\u001b[33m(raylet)\u001b[0m [2023-05-23 20:46:40,636 E 69732 3621693] (raylet) file_system_monitor.cc:111: /tmp/ray/session_2023-05-23_20-45-27_466441_69707 is over 95% full, available space: 23935815680; capacity: 499963174912. Object creation will fail if spilling is required.\n",
      "\u001b[2m\u001b[33m(raylet)\u001b[0m [2023-05-23 20:46:50,716 E 69732 3621693] (raylet) file_system_monitor.cc:111: /tmp/ray/session_2023-05-23_20-45-27_466441_69707 is over 95% full, available space: 23935803392; capacity: 499963174912. Object creation will fail if spilling is required.\n",
      "\u001b[2m\u001b[33m(raylet)\u001b[0m [2023-05-23 20:47:00,796 E 69732 3621693] (raylet) file_system_monitor.cc:111: /tmp/ray/session_2023-05-23_20-45-27_466441_69707 is over 95% full, available space: 23935787008; capacity: 499963174912. Object creation will fail if spilling is required.\n",
      "\u001b[2m\u001b[33m(raylet)\u001b[0m [2023-05-23 20:47:10,878 E 69732 3621693] (raylet) file_system_monitor.cc:111: /tmp/ray/session_2023-05-23_20-45-27_466441_69707 is over 95% full, available space: 23935508480; capacity: 499963174912. Object creation will fail if spilling is required.\n",
      "\u001b[2m\u001b[33m(raylet)\u001b[0m [2023-05-23 20:47:20,960 E 69732 3621693] (raylet) file_system_monitor.cc:111: /tmp/ray/session_2023-05-23_20-45-27_466441_69707 is over 95% full, available space: 23935500288; capacity: 499963174912. Object creation will fail if spilling is required.\n",
      "\u001b[2m\u001b[33m(raylet)\u001b[0m [2023-05-23 20:47:31,046 E 69732 3621693] (raylet) file_system_monitor.cc:111: /tmp/ray/session_2023-05-23_20-45-27_466441_69707 is over 95% full, available space: 23935483904; capacity: 499963174912. Object creation will fail if spilling is required.\n",
      "\u001b[2m\u001b[33m(raylet)\u001b[0m [2023-05-23 20:47:41,126 E 69732 3621693] (raylet) file_system_monitor.cc:111: /tmp/ray/session_2023-05-23_20-45-27_466441_69707 is over 95% full, available space: 23935365120; capacity: 499963174912. Object creation will fail if spilling is required.\n",
      "\u001b[2m\u001b[33m(raylet)\u001b[0m [2023-05-23 20:47:51,202 E 69732 3621693] (raylet) file_system_monitor.cc:111: /tmp/ray/session_2023-05-23_20-45-27_466441_69707 is over 95% full, available space: 23935344640; capacity: 499963174912. Object creation will fail if spilling is required.\n",
      "\u001b[2m\u001b[33m(raylet)\u001b[0m [2023-05-23 20:48:01,303 E 69732 3621693] (raylet) file_system_monitor.cc:111: /tmp/ray/session_2023-05-23_20-45-27_466441_69707 is over 95% full, available space: 23940341760; capacity: 499963174912. Object creation will fail if spilling is required.\n",
      "\u001b[2m\u001b[33m(raylet)\u001b[0m [2023-05-23 20:48:11,383 E 69732 3621693] (raylet) file_system_monitor.cc:111: /tmp/ray/session_2023-05-23_20-45-27_466441_69707 is over 95% full, available space: 23940091904; capacity: 499963174912. Object creation will fail if spilling is required.\n",
      "\u001b[2m\u001b[33m(raylet)\u001b[0m [2023-05-23 20:48:21,393 E 69732 3621693] (raylet) file_system_monitor.cc:111: /tmp/ray/session_2023-05-23_20-45-27_466441_69707 is over 95% full, available space: 23940079616; capacity: 499963174912. Object creation will fail if spilling is required.\n",
      "\u001b[2m\u001b[33m(raylet)\u001b[0m [2023-05-23 20:48:31,481 E 69732 3621693] (raylet) file_system_monitor.cc:111: /tmp/ray/session_2023-05-23_20-45-27_466441_69707 is over 95% full, available space: 23940083712; capacity: 499963174912. Object creation will fail if spilling is required.\n",
      "\u001b[2m\u001b[33m(raylet)\u001b[0m [2023-05-23 20:48:41,566 E 69732 3621693] (raylet) file_system_monitor.cc:111: /tmp/ray/session_2023-05-23_20-45-27_466441_69707 is over 95% full, available space: 23934074880; capacity: 499963174912. Object creation will fail if spilling is required.\n",
      "\u001b[2m\u001b[33m(raylet)\u001b[0m [2023-05-23 20:48:51,660 E 69732 3621693] (raylet) file_system_monitor.cc:111: /tmp/ray/session_2023-05-23_20-45-27_466441_69707 is over 95% full, available space: 23935361024; capacity: 499963174912. Object creation will fail if spilling is required.\n",
      "\u001b[2m\u001b[33m(raylet)\u001b[0m [2023-05-23 20:49:01,740 E 69732 3621693] (raylet) file_system_monitor.cc:111: /tmp/ray/session_2023-05-23_20-45-27_466441_69707 is over 95% full, available space: 23935385600; capacity: 499963174912. Object creation will fail if spilling is required.\n",
      "\u001b[2m\u001b[33m(raylet)\u001b[0m [2023-05-23 20:49:11,821 E 69732 3621693] (raylet) file_system_monitor.cc:111: /tmp/ray/session_2023-05-23_20-45-27_466441_69707 is over 95% full, available space: 23934296064; capacity: 499963174912. Object creation will fail if spilling is required.\n",
      "\u001b[2m\u001b[33m(raylet)\u001b[0m [2023-05-23 20:49:21,905 E 69732 3621693] (raylet) file_system_monitor.cc:111: /tmp/ray/session_2023-05-23_20-45-27_466441_69707 is over 95% full, available space: 23932862464; capacity: 499963174912. Object creation will fail if spilling is required.\n",
      "\u001b[2m\u001b[33m(raylet)\u001b[0m [2023-05-23 20:49:31,991 E 69732 3621693] (raylet) file_system_monitor.cc:111: /tmp/ray/session_2023-05-23_20-45-27_466441_69707 is over 95% full, available space: 23932854272; capacity: 499963174912. Object creation will fail if spilling is required.\n",
      "\u001b[2m\u001b[33m(raylet)\u001b[0m [2023-05-23 20:49:42,069 E 69732 3621693] (raylet) file_system_monitor.cc:111: /tmp/ray/session_2023-05-23_20-45-27_466441_69707 is over 95% full, available space: 23871758336; capacity: 499963174912. Object creation will fail if spilling is required.\n",
      "\u001b[2m\u001b[33m(raylet)\u001b[0m [2023-05-23 20:49:51,967 E 69732 3621693] (raylet) file_system_monitor.cc:111: /tmp/ray/session_2023-05-23_20-45-27_466441_69707 is over 95% full, available space: 23714586624; capacity: 499963174912. Object creation will fail if spilling is required.\n",
      "\u001b[2m\u001b[33m(raylet)\u001b[0m [2023-05-23 20:50:01,973 E 69732 3621693] (raylet) file_system_monitor.cc:111: /tmp/ray/session_2023-05-23_20-45-27_466441_69707 is over 95% full, available space: 23848873984; capacity: 499963174912. Object creation will fail if spilling is required.\n",
      "\u001b[2m\u001b[33m(raylet)\u001b[0m [2023-05-23 20:50:12,009 E 69732 3621693] (raylet) file_system_monitor.cc:111: /tmp/ray/session_2023-05-23_20-45-27_466441_69707 is over 95% full, available space: 23814496256; capacity: 499963174912. Object creation will fail if spilling is required.\n",
      "\u001b[2m\u001b[33m(raylet)\u001b[0m [2023-05-23 20:50:36,059 E 69732 3621693] (raylet) file_system_monitor.cc:111: /tmp/ray/session_2023-05-23_20-45-27_466441_69707 is over 95% full, available space: 23795625984; capacity: 499963174912. Object creation will fail if spilling is required.\n",
      "\u001b[2m\u001b[33m(raylet)\u001b[0m [2023-05-23 20:50:46,734 E 69732 3621693] (raylet) file_system_monitor.cc:111: /tmp/ray/session_2023-05-23_20-45-27_466441_69707 is over 95% full, available space: 23715495936; capacity: 499963174912. Object creation will fail if spilling is required.\n",
      "\u001b[2m\u001b[33m(raylet)\u001b[0m [2023-05-23 20:50:56,811 E 69732 3621693] (raylet) file_system_monitor.cc:111: /tmp/ray/session_2023-05-23_20-45-27_466441_69707 is over 95% full, available space: 23824543744; capacity: 499963174912. Object creation will fail if spilling is required.\n"
     ]
    }
   ],
   "source": [
    "from ray.rllib.algorithms.pg import PGConfig \n",
    "from ray.tune.registry import register_env\n",
    "from ray.rllib.models import ModelCatalog\n",
    "import ray\n",
    "import os\n",
    "os.environ[\"PROTOCOL_BUFFERS_PYTHON_IMPLEMENTATION\"] = \"python\"\n",
    "# ray.init(ignore_reinit_error=True)\n",
    "from ray import air\n",
    "from ray import tune\n",
    "config = PGConfig()\n",
    "# Print out some default values.\n",
    "print(config.lr) \n",
    "# Update the config object.\n",
    "config = config.training(lr=tune.grid_search([0.001, 0.0001]))\n",
    "# Set the config object's env.\n",
    "config = config.environment(env=env)\n",
    "# Use to_dict() to get the old-style python config dict\n",
    "# when running with tune.\n",
    "tune.Tuner(  \n",
    "    \"PG\",\n",
    "    run_config=air.RunConfig(stop={\"episode_reward_mean\": 200}),\n",
    "    param_space=config.to_dict(),\n",
    ").fit()"
   ]
  },
  {
   "attachments": {},
   "cell_type": "markdown",
   "metadata": {},
   "source": [
    "## Print the model\n",
    "note that this can only be done with pytorch version of the model"
   ]
  },
  {
   "cell_type": "code",
   "execution_count": 5,
   "metadata": {},
   "outputs": [
    {
     "name": "stdout",
     "output_type": "stream",
     "text": [
      "PGTorchPolicy\n",
      "post_fc_stack._hidden_layers.0._model.0.weight (30, 256)\n",
      "post_fc_stack._hidden_layers.0._model.0.bias (30,)\n",
      "post_fc_stack._hidden_layers.1._model.0.weight (520, 30)\n",
      "post_fc_stack._hidden_layers.1._model.0.bias (520,)\n",
      "post_fc_stack._hidden_layers.2._model.0.weight (321, 520)\n",
      "post_fc_stack._hidden_layers.2._model.0.bias (321,)\n",
      "post_fc_stack._value_branch_separate.0._model.0.weight (30, 256)\n",
      "post_fc_stack._value_branch_separate.0._model.0.bias (30,)\n",
      "post_fc_stack._value_branch_separate.1._model.0.weight (520, 30)\n",
      "post_fc_stack._value_branch_separate.1._model.0.bias (520,)\n",
      "post_fc_stack._value_branch_separate.2._model.0.weight (321, 520)\n",
      "post_fc_stack._value_branch_separate.2._model.0.bias (321,)\n",
      "post_fc_stack._value_branch._model.0.weight (1, 321)\n",
      "post_fc_stack._value_branch._model.0.bias (1,)\n",
      "logits_layer._model.0.weight (102, 321)\n",
      "logits_layer._model.0.bias (102,)\n",
      "value_layer._model.0.weight (1, 321)\n",
      "value_layer._model.0.bias (1,)\n",
      "ComplexInputNetwork(\n",
      "  (post_fc_stack): FullyConnectedNetwork(\n",
      "    (_hidden_layers): Sequential(\n",
      "      (0): SlimFC(\n",
      "        (_model): Sequential(\n",
      "          (0): Linear(in_features=256, out_features=30, bias=True)\n",
      "          (1): ReLU()\n",
      "        )\n",
      "      )\n",
      "      (1): SlimFC(\n",
      "        (_model): Sequential(\n",
      "          (0): Linear(in_features=30, out_features=520, bias=True)\n",
      "          (1): ReLU()\n",
      "        )\n",
      "      )\n",
      "      (2): SlimFC(\n",
      "        (_model): Sequential(\n",
      "          (0): Linear(in_features=520, out_features=321, bias=True)\n",
      "          (1): ReLU()\n",
      "        )\n",
      "      )\n",
      "    )\n",
      "    (_value_branch_separate): Sequential(\n",
      "      (0): SlimFC(\n",
      "        (_model): Sequential(\n",
      "          (0): Linear(in_features=256, out_features=30, bias=True)\n",
      "          (1): ReLU()\n",
      "        )\n",
      "      )\n",
      "      (1): SlimFC(\n",
      "        (_model): Sequential(\n",
      "          (0): Linear(in_features=30, out_features=520, bias=True)\n",
      "          (1): ReLU()\n",
      "        )\n",
      "      )\n",
      "      (2): SlimFC(\n",
      "        (_model): Sequential(\n",
      "          (0): Linear(in_features=520, out_features=321, bias=True)\n",
      "          (1): ReLU()\n",
      "        )\n",
      "      )\n",
      "    )\n",
      "    (_value_branch): SlimFC(\n",
      "      (_model): Sequential(\n",
      "        (0): Linear(in_features=321, out_features=1, bias=True)\n",
      "      )\n",
      "    )\n",
      "  )\n",
      "  (logits_layer): SlimFC(\n",
      "    (_model): Sequential(\n",
      "      (0): Linear(in_features=321, out_features=102, bias=True)\n",
      "    )\n",
      "  )\n",
      "  (value_layer): SlimFC(\n",
      "    (_model): Sequential(\n",
      "      (0): Linear(in_features=321, out_features=1, bias=True)\n",
      "    )\n",
      "  )\n",
      ")\n",
      "{0: FullyConnectedNetwork(\n",
      "  (_hidden_layers): Sequential(\n",
      "    (0): SlimFC(\n",
      "      (_model): Sequential(\n",
      "        (0): Linear(in_features=550, out_features=256, bias=True)\n",
      "        (1): Tanh()\n",
      "      )\n",
      "    )\n",
      "    (1): SlimFC(\n",
      "      (_model): Sequential(\n",
      "        (0): Linear(in_features=256, out_features=256, bias=True)\n",
      "        (1): Tanh()\n",
      "      )\n",
      "    )\n",
      "  )\n",
      "  (_value_branch_separate): Sequential(\n",
      "    (0): SlimFC(\n",
      "      (_model): Sequential(\n",
      "        (0): Linear(in_features=550, out_features=256, bias=True)\n",
      "        (1): Tanh()\n",
      "      )\n",
      "    )\n",
      "    (1): SlimFC(\n",
      "      (_model): Sequential(\n",
      "        (0): Linear(in_features=256, out_features=256, bias=True)\n",
      "        (1): Tanh()\n",
      "      )\n",
      "    )\n",
      "  )\n",
      "  (_value_branch): SlimFC(\n",
      "    (_model): Sequential(\n",
      "      (0): Linear(in_features=256, out_features=1, bias=True)\n",
      "    )\n",
      "  )\n",
      ")}\n",
      "{}\n",
      "{}\n",
      "<class 'ray.rllib.models.torch.complex_input_net.ComplexInputNetwork'>\n"
     ]
    }
   ],
   "source": [
    "pol = pg_trainer.get_policy()\n",
    "print(pol)\n",
    "# way1 to print the model paramters\n",
    "for k, v in pol.get_weights().items():\n",
    "    print(k, v.shape)\n",
    "# way2 to print the model\n",
    "model = pol.model\n",
    "print(model)\n",
    "# beside the defined model, \n",
    "# we also have flatten and various other predefined components\n",
    "# which you can look for further details in \n",
    "# 'ray.rllib.models.torch.complex_input_net.ComplexInputNetwork'\n",
    "print(model.flatten)\n",
    "print(model.one_hot)\n",
    "print(model.cnns)\n",
    "# if you want to look into the source code for prototype of the model see here\n",
    "print(type(model)) # of class 'ray.rllib.models.torch.complex_input_net.ComplexInputNetwork'"
   ]
  },
  {
   "attachments": {},
   "cell_type": "markdown",
   "metadata": {},
   "source": [
    "## Try and construct and pass a sample_batch into the model"
   ]
  },
  {
   "cell_type": "code",
   "execution_count": 6,
   "metadata": {},
   "outputs": [
    {
     "name": "stdout",
     "output_type": "stream",
     "text": [
      "(11, 50)\n",
      "(tensor([[-2.5922e-04,  3.7101e-04, -2.4454e-04, -1.4447e-04,  1.9354e-04,\n",
      "          2.4718e-04, -5.6721e-04,  3.5246e-04,  4.6053e-05,  6.9738e-04,\n",
      "          3.2152e-04, -1.9862e-04,  1.3373e-04,  7.9480e-05,  4.3697e-04,\n",
      "          2.3909e-04,  1.6504e-04,  9.2378e-04, -1.7482e-04, -6.6044e-05,\n",
      "          3.6818e-04,  1.5503e-04,  1.0421e-03, -2.6726e-06,  1.6905e-04,\n",
      "          5.0499e-04,  1.5690e-04,  3.1352e-04, -2.2751e-05, -4.5401e-04,\n",
      "          7.2833e-05,  5.3493e-04,  5.8630e-05, -5.0553e-04, -8.5027e-05,\n",
      "          1.7867e-04, -3.0604e-05,  3.9327e-04, -3.9780e-04, -1.5325e-04,\n",
      "         -2.6746e-05, -2.7179e-04, -8.5194e-04,  3.7674e-04, -3.5922e-04,\n",
      "          3.2475e-04,  1.0711e-04,  6.9320e-04,  4.3957e-04,  4.9434e-05,\n",
      "          6.1676e-04, -1.6000e-04,  4.2720e-05,  5.0777e-04,  5.1159e-04,\n",
      "         -4.6186e-04, -2.8623e-04, -3.6844e-04,  8.1008e-04,  4.6258e-05,\n",
      "          1.4441e-04,  1.7621e-04, -4.9282e-04, -4.1605e-04,  7.9114e-04,\n",
      "          2.8525e-05, -5.5771e-06, -7.6091e-04, -2.5181e-04, -7.8815e-04,\n",
      "         -3.7564e-04, -2.5004e-04, -4.6519e-04,  6.5129e-05, -2.2505e-04,\n",
      "         -5.6496e-04,  4.6022e-04,  3.6297e-04, -3.6386e-04, -9.9272e-05,\n",
      "          4.6579e-04, -1.6436e-04,  5.1524e-04,  1.4169e-04,  5.0697e-04,\n",
      "         -5.3513e-04,  1.1719e-03, -5.9636e-05,  2.1372e-04,  7.0249e-05,\n",
      "          1.9696e-04,  5.2750e-04,  3.5413e-04,  4.1759e-04,  3.5639e-05,\n",
      "         -1.3284e-04,  3.6697e-04, -7.9347e-04, -3.5077e-05, -2.0199e-04,\n",
      "         -2.7018e-04,  4.0880e-04],\n",
      "        [-2.5922e-04,  3.7101e-04, -2.4454e-04, -1.4447e-04,  1.9354e-04,\n",
      "          2.4718e-04, -5.6721e-04,  3.5246e-04,  4.6053e-05,  6.9738e-04,\n",
      "          3.2152e-04, -1.9862e-04,  1.3373e-04,  7.9480e-05,  4.3697e-04,\n",
      "          2.3909e-04,  1.6504e-04,  9.2378e-04, -1.7482e-04, -6.6044e-05,\n",
      "          3.6818e-04,  1.5503e-04,  1.0421e-03, -2.6726e-06,  1.6905e-04,\n",
      "          5.0499e-04,  1.5690e-04,  3.1352e-04, -2.2751e-05, -4.5401e-04,\n",
      "          7.2833e-05,  5.3493e-04,  5.8630e-05, -5.0553e-04, -8.5027e-05,\n",
      "          1.7867e-04, -3.0604e-05,  3.9327e-04, -3.9780e-04, -1.5325e-04,\n",
      "         -2.6746e-05, -2.7179e-04, -8.5194e-04,  3.7674e-04, -3.5922e-04,\n",
      "          3.2475e-04,  1.0711e-04,  6.9320e-04,  4.3957e-04,  4.9434e-05,\n",
      "          6.1676e-04, -1.6000e-04,  4.2720e-05,  5.0777e-04,  5.1159e-04,\n",
      "         -4.6186e-04, -2.8623e-04, -3.6844e-04,  8.1008e-04,  4.6258e-05,\n",
      "          1.4441e-04,  1.7621e-04, -4.9282e-04, -4.1605e-04,  7.9114e-04,\n",
      "          2.8525e-05, -5.5771e-06, -7.6091e-04, -2.5181e-04, -7.8815e-04,\n",
      "         -3.7564e-04, -2.5004e-04, -4.6519e-04,  6.5129e-05, -2.2505e-04,\n",
      "         -5.6496e-04,  4.6022e-04,  3.6297e-04, -3.6386e-04, -9.9272e-05,\n",
      "          4.6579e-04, -1.6436e-04,  5.1524e-04,  1.4169e-04,  5.0697e-04,\n",
      "         -5.3513e-04,  1.1719e-03, -5.9636e-05,  2.1372e-04,  7.0249e-05,\n",
      "          1.9696e-04,  5.2750e-04,  3.5413e-04,  4.1759e-04,  3.5639e-05,\n",
      "         -1.3284e-04,  3.6697e-04, -7.9347e-04, -3.5077e-05, -2.0199e-04,\n",
      "         -2.7018e-04,  4.0880e-04]], grad_fn=<AddmmBackward0>), []) torch.Size([2, 102])\n"
     ]
    }
   ],
   "source": [
    "obs = env.reset()\n",
    "print(obs.shape)\n",
    "sample_batch = (dict(obs = torch.Tensor([obs, obs])), None, None)\n",
    "model_output = (model(*sample_batch))\n",
    "print(model_output, model_output[0].shape)"
   ]
  },
  {
   "cell_type": "code",
   "execution_count": 7,
   "metadata": {},
   "outputs": [
    {
     "name": "stdout",
     "output_type": "stream",
     "text": [
      "ComplexInputNetwork(\n",
      "  (post_fc_stack): FullyConnectedNetwork(\n",
      "    (_hidden_layers): Sequential()\n",
      "    (_value_branch_separate): Sequential()\n",
      "    (_value_branch): SlimFC(\n",
      "      (_model): Sequential(\n",
      "        (0): Linear(in_features=256, out_features=1, bias=True)\n",
      "      )\n",
      "    )\n",
      "  )\n",
      "  (logits_layer): SlimFC(\n",
      "    (_model): Sequential(\n",
      "      (0): Linear(in_features=256, out_features=51, bias=True)\n",
      "    )\n",
      "  )\n",
      "  (value_layer): SlimFC(\n",
      "    (_model): Sequential(\n",
      "      (0): Linear(in_features=256, out_features=1, bias=True)\n",
      "    )\n",
      "  )\n",
      ")\n"
     ]
    }
   ],
   "source": [
    "from ray.rllib.models import ModelCatalog\n",
    "from ray.rllib.models import MODEL_DEFAULTS\n",
    "# model = ModelCatalog.get_model_v2(env.observation_space, env.action_space, int(env.action_space.shape[0]), model_config=MODEL_DEFAULTS)\n",
    "model = ModelCatalog.get_model_v2(env.observation_space, env.action_space, int(env.action_space.shape[0]), model_config=MODEL_DEFAULTS, framework=\"torch\")\n",
    "print(model)"
   ]
  },
  {
   "attachments": {},
   "cell_type": "markdown",
   "metadata": {},
   "source": [
    "## Let's get a more complex model and try to train!"
   ]
  },
  {
   "cell_type": "code",
   "execution_count": 8,
   "metadata": {},
   "outputs": [
    {
     "name": "stderr",
     "output_type": "stream",
     "text": [
      "2023-05-23 16:56:47,681\tINFO worker.py:973 -- Calling ray.init() again after it has already been called.\n"
     ]
    },
    {
     "name": "stdout",
     "output_type": "stream",
     "text": [
      "torch\n"
     ]
    },
    {
     "name": "stderr",
     "output_type": "stream",
     "text": [
      "2023-05-23 16:56:48,185\tWARNING env.py:135 -- Your env doesn't have a .spec.max_episode_steps attribute. This is fine if you have set 'horizon' in your config dictionary, or `soft_horizon`. However, if you haven't, 'horizon' will default to infinity, and your environment will not be reset.\n",
      "2023-05-23 16:56:48,267\tWARNING util.py:65 -- Install gputil for GPU system monitoring.\n"
     ]
    },
    {
     "name": "stdout",
     "output_type": "stream",
     "text": [
      "<class 'ray.rllib.models.catalog.ComplexInputNetwork_as_LSTMWrapper'>\n",
      "ComplexInputNetwork_as_LSTMWrapper(\n",
      "  (post_fc_stack): FullyConnectedNetwork(\n",
      "    (_hidden_layers): Sequential()\n",
      "    (_value_branch_separate): Sequential()\n",
      "    (_value_branch): SlimFC(\n",
      "      (_model): Sequential(\n",
      "        (0): Linear(in_features=256, out_features=1, bias=True)\n",
      "      )\n",
      "    )\n",
      "  )\n",
      "  (lstm): LSTM(307, 64, batch_first=True)\n",
      "  (_logits_branch): SlimFC(\n",
      "    (_model): Sequential(\n",
      "      (0): Linear(in_features=64, out_features=102, bias=True)\n",
      "    )\n",
      "  )\n",
      "  (_value_branch): SlimFC(\n",
      "    (_model): Sequential(\n",
      "      (0): Linear(in_features=64, out_features=1, bias=True)\n",
      "    )\n",
      "  )\n",
      ")\n",
      "{0: FullyConnectedNetwork(\n",
      "  (_hidden_layers): Sequential(\n",
      "    (0): SlimFC(\n",
      "      (_model): Sequential(\n",
      "        (0): Linear(in_features=550, out_features=256, bias=True)\n",
      "        (1): Tanh()\n",
      "      )\n",
      "    )\n",
      "    (1): SlimFC(\n",
      "      (_model): Sequential(\n",
      "        (0): Linear(in_features=256, out_features=256, bias=True)\n",
      "        (1): Tanh()\n",
      "      )\n",
      "    )\n",
      "  )\n",
      "  (_value_branch_separate): Sequential(\n",
      "    (0): SlimFC(\n",
      "      (_model): Sequential(\n",
      "        (0): Linear(in_features=550, out_features=256, bias=True)\n",
      "        (1): Tanh()\n",
      "      )\n",
      "    )\n",
      "    (1): SlimFC(\n",
      "      (_model): Sequential(\n",
      "        (0): Linear(in_features=256, out_features=256, bias=True)\n",
      "        (1): Tanh()\n",
      "      )\n",
      "    )\n",
      "  )\n",
      "  (_value_branch): SlimFC(\n",
      "    (_model): Sequential(\n",
      "      (0): Linear(in_features=256, out_features=1, bias=True)\n",
      "    )\n",
      "  )\n",
      ")}\n"
     ]
    }
   ],
   "source": [
    "trainer_cfg = dict(\n",
    "    rollout_fragment_length = 200,\n",
    "    # explore = True,\n",
    "    framework = \"torch\",\n",
    "    model = {\n",
    "        # \"post_fcnet_hiddens\" : [256, 256],\n",
    "        # use_attention = True,\n",
    "        \"use_lstm\": True,\n",
    "        # Max seq len for training the LSTM, defaults to 20.\n",
    "        \"max_seq_len\": 1000,\n",
    "        # Size of the LSTM cell.\n",
    "        \"lstm_cell_size\": 64,\n",
    "        # Whether to feed a_{t-1} to LSTM (one-hot encoded if discrete).\n",
    "        \"lstm_use_prev_action\": True,\n",
    "        # Whether to feed r_{t-1} to LSTM.\n",
    "        \"lstm_use_prev_reward\": False,\n",
    "        # Whether the LSTM is time-major (TxBx..) or batch-major (BxTx..).\n",
    "    }\n",
    "    \n",
    ")\n",
    "ray.init(ignore_reinit_error=True)\n",
    "trainer_cfg[\"env\"] = \"portfolio_management\"\n",
    "trainer_cfg[\"env_config\"] = dict(dataset=dataset, task=\"train\", device=\"cpu\")\n",
    "pg_trainer2 = PGTrainer(trainer_cfg, env=\"portfolio_management\")\n",
    "pol = pg_trainer2.get_policy()\n",
    "model = pol.model\n",
    "print(type(model))\n",
    "print(model)\n",
    "print(model.flatten)"
   ]
  },
  {
   "cell_type": "code",
   "execution_count": null,
   "metadata": {},
   "outputs": [],
   "source": [
    "for e in range(3):\n",
    "    pg_trainer2.train()"
   ]
  },
  {
   "attachments": {},
   "cell_type": "markdown",
   "metadata": {},
   "source": [
    "## Save the model"
   ]
  },
  {
   "cell_type": "code",
   "execution_count": 10,
   "metadata": {},
   "outputs": [
    {
     "ename": "TypeError",
     "evalue": "can't convert np.ndarray of type numpy.object_. The only supported types are: float64, float32, float16, complex64, complex128, int64, int32, int16, int8, uint8, and bool.",
     "output_type": "error",
     "traceback": [
      "\u001b[0;31m---------------------------------------------------------------------------\u001b[0m",
      "\u001b[0;31mTypeError\u001b[0m                                 Traceback (most recent call last)",
      "Cell \u001b[0;32mIn[10], line 11\u001b[0m\n\u001b[1;32m      9\u001b[0m save_object(obj, \u001b[39m\"\u001b[39m\u001b[39mpg_trainer2.pkl\u001b[39m\u001b[39m\"\u001b[39m)\n\u001b[1;32m     10\u001b[0m \u001b[39m# obj2 = load_object(\"pg_trainer2.pkl\")\u001b[39;00m\n\u001b[0;32m---> 11\u001b[0m pg_trainer2\u001b[39m.\u001b[39;49mrestore_from_object(obj)\n",
      "File \u001b[0;32m~/opt/anaconda3/envs/TradeMaster/lib/python3.9/site-packages/ray/tune/trainable.py:606\u001b[0m, in \u001b[0;36mTrainable.restore_from_object\u001b[0;34m(self, obj)\u001b[0m\n\u001b[1;32m    604\u001b[0m tmpdir \u001b[39m=\u001b[39m tempfile\u001b[39m.\u001b[39mmkdtemp(\u001b[39m\"\u001b[39m\u001b[39mrestore_from_object\u001b[39m\u001b[39m\"\u001b[39m, \u001b[39mdir\u001b[39m\u001b[39m=\u001b[39m\u001b[39mself\u001b[39m\u001b[39m.\u001b[39mlogdir)\n\u001b[1;32m    605\u001b[0m checkpoint_path \u001b[39m=\u001b[39m TrainableUtil\u001b[39m.\u001b[39mcreate_from_pickle(obj, tmpdir)\n\u001b[0;32m--> 606\u001b[0m \u001b[39mself\u001b[39;49m\u001b[39m.\u001b[39;49mrestore(checkpoint_path)\n\u001b[1;32m    607\u001b[0m shutil\u001b[39m.\u001b[39mrmtree(tmpdir)\n",
      "File \u001b[0;32m~/opt/anaconda3/envs/TradeMaster/lib/python3.9/site-packages/ray/tune/trainable.py:583\u001b[0m, in \u001b[0;36mTrainable.restore\u001b[0;34m(self, checkpoint_path, checkpoint_node_ip)\u001b[0m\n\u001b[1;32m    581\u001b[0m     \u001b[39mself\u001b[39m\u001b[39m.\u001b[39mload_checkpoint(checkpoint_dict)\n\u001b[1;32m    582\u001b[0m \u001b[39melse\u001b[39;00m:\n\u001b[0;32m--> 583\u001b[0m     \u001b[39mself\u001b[39;49m\u001b[39m.\u001b[39;49mload_checkpoint(checkpoint_path)\n\u001b[1;32m    584\u001b[0m \u001b[39mself\u001b[39m\u001b[39m.\u001b[39m_time_since_restore \u001b[39m=\u001b[39m \u001b[39m0.0\u001b[39m\n\u001b[1;32m    585\u001b[0m \u001b[39mself\u001b[39m\u001b[39m.\u001b[39m_timesteps_since_restore \u001b[39m=\u001b[39m \u001b[39m0\u001b[39m\n",
      "File \u001b[0;32m~/opt/anaconda3/envs/TradeMaster/lib/python3.9/site-packages/ray/rllib/agents/trainer.py:2070\u001b[0m, in \u001b[0;36mTrainer.load_checkpoint\u001b[0;34m(self, checkpoint_path)\u001b[0m\n\u001b[1;32m   2067\u001b[0m \u001b[39m@override\u001b[39m(Trainable)\n\u001b[1;32m   2068\u001b[0m \u001b[39mdef\u001b[39;00m \u001b[39mload_checkpoint\u001b[39m(\u001b[39mself\u001b[39m, checkpoint_path: \u001b[39mstr\u001b[39m) \u001b[39m-\u001b[39m\u001b[39m>\u001b[39m \u001b[39mNone\u001b[39;00m:\n\u001b[1;32m   2069\u001b[0m     extra_data \u001b[39m=\u001b[39m pickle\u001b[39m.\u001b[39mload(\u001b[39mopen\u001b[39m(checkpoint_path, \u001b[39m\"\u001b[39m\u001b[39mrb\u001b[39m\u001b[39m\"\u001b[39m))\n\u001b[0;32m-> 2070\u001b[0m     \u001b[39mself\u001b[39;49m\u001b[39m.\u001b[39;49m__setstate__(extra_data)\n",
      "File \u001b[0;32m~/opt/anaconda3/envs/TradeMaster/lib/python3.9/site-packages/ray/rllib/agents/trainer.py:2693\u001b[0m, in \u001b[0;36mTrainer.__setstate__\u001b[0;34m(self, state)\u001b[0m\n\u001b[1;32m   2691\u001b[0m \u001b[39mdef\u001b[39;00m \u001b[39m__setstate__\u001b[39m(\u001b[39mself\u001b[39m, state: \u001b[39mdict\u001b[39m):\n\u001b[1;32m   2692\u001b[0m     \u001b[39mif\u001b[39;00m \u001b[39mhasattr\u001b[39m(\u001b[39mself\u001b[39m, \u001b[39m\"\u001b[39m\u001b[39mworkers\u001b[39m\u001b[39m\"\u001b[39m) \u001b[39mand\u001b[39;00m \u001b[39m\"\u001b[39m\u001b[39mworker\u001b[39m\u001b[39m\"\u001b[39m \u001b[39min\u001b[39;00m state:\n\u001b[0;32m-> 2693\u001b[0m         \u001b[39mself\u001b[39;49m\u001b[39m.\u001b[39;49mworkers\u001b[39m.\u001b[39;49mlocal_worker()\u001b[39m.\u001b[39;49mrestore(state[\u001b[39m\"\u001b[39;49m\u001b[39mworker\u001b[39;49m\u001b[39m\"\u001b[39;49m])\n\u001b[1;32m   2694\u001b[0m         remote_state \u001b[39m=\u001b[39m ray\u001b[39m.\u001b[39mput(state[\u001b[39m\"\u001b[39m\u001b[39mworker\u001b[39m\u001b[39m\"\u001b[39m])\n\u001b[1;32m   2695\u001b[0m         \u001b[39mfor\u001b[39;00m r \u001b[39min\u001b[39;00m \u001b[39mself\u001b[39m\u001b[39m.\u001b[39mworkers\u001b[39m.\u001b[39mremote_workers():\n",
      "File \u001b[0;32m~/opt/anaconda3/envs/TradeMaster/lib/python3.9/site-packages/ray/rllib/evaluation/rollout_worker.py:1542\u001b[0m, in \u001b[0;36mRolloutWorker.restore\u001b[0;34m(self, objs)\u001b[0m\n\u001b[1;32m   1534\u001b[0m         \u001b[39mself\u001b[39m\u001b[39m.\u001b[39madd_policy(\n\u001b[1;32m   1535\u001b[0m             policy_id\u001b[39m=\u001b[39mpid,\n\u001b[1;32m   1536\u001b[0m             policy_cls\u001b[39m=\u001b[39mpol_spec\u001b[39m.\u001b[39mpolicy_class,\n\u001b[0;32m   (...)\u001b[0m\n\u001b[1;32m   1539\u001b[0m             config\u001b[39m=\u001b[39mpol_spec\u001b[39m.\u001b[39mconfig,\n\u001b[1;32m   1540\u001b[0m         )\n\u001b[1;32m   1541\u001b[0m \u001b[39melse\u001b[39;00m:\n\u001b[0;32m-> 1542\u001b[0m     \u001b[39mself\u001b[39;49m\u001b[39m.\u001b[39;49mpolicy_map[pid]\u001b[39m.\u001b[39;49mset_state(state)\n",
      "File \u001b[0;32m~/opt/anaconda3/envs/TradeMaster/lib/python3.9/site-packages/ray/rllib/policy/torch_policy.py:766\u001b[0m, in \u001b[0;36mTorchPolicy.set_state\u001b[0;34m(self, state)\u001b[0m\n\u001b[1;32m    764\u001b[0m     \u001b[39massert\u001b[39;00m \u001b[39mlen\u001b[39m(optimizer_vars) \u001b[39m==\u001b[39m \u001b[39mlen\u001b[39m(\u001b[39mself\u001b[39m\u001b[39m.\u001b[39m_optimizers)\n\u001b[1;32m    765\u001b[0m     \u001b[39mfor\u001b[39;00m o, s \u001b[39min\u001b[39;00m \u001b[39mzip\u001b[39m(\u001b[39mself\u001b[39m\u001b[39m.\u001b[39m_optimizers, optimizer_vars):\n\u001b[0;32m--> 766\u001b[0m         optim_state_dict \u001b[39m=\u001b[39m convert_to_torch_tensor(s, device\u001b[39m=\u001b[39;49m\u001b[39mself\u001b[39;49m\u001b[39m.\u001b[39;49mdevice)\n\u001b[1;32m    767\u001b[0m         o\u001b[39m.\u001b[39mload_state_dict(optim_state_dict)\n\u001b[1;32m    768\u001b[0m \u001b[39m# Set exploration's state.\u001b[39;00m\n",
      "File \u001b[0;32m~/opt/anaconda3/envs/TradeMaster/lib/python3.9/site-packages/ray/rllib/utils/torch_utils.py:167\u001b[0m, in \u001b[0;36mconvert_to_torch_tensor\u001b[0;34m(x, device)\u001b[0m\n\u001b[1;32m    164\u001b[0m         tensor \u001b[39m=\u001b[39m tensor\u001b[39m.\u001b[39mfloat()\n\u001b[1;32m    165\u001b[0m     \u001b[39mreturn\u001b[39;00m tensor \u001b[39mif\u001b[39;00m device \u001b[39mis\u001b[39;00m \u001b[39mNone\u001b[39;00m \u001b[39melse\u001b[39;00m tensor\u001b[39m.\u001b[39mto(device)\n\u001b[0;32m--> 167\u001b[0m \u001b[39mreturn\u001b[39;00m tree\u001b[39m.\u001b[39;49mmap_structure(mapping, x)\n",
      "File \u001b[0;32m~/opt/anaconda3/envs/TradeMaster/lib/python3.9/site-packages/tree/__init__.py:435\u001b[0m, in \u001b[0;36mmap_structure\u001b[0;34m(func, *structures, **kwargs)\u001b[0m\n\u001b[1;32m    432\u001b[0m \u001b[39mfor\u001b[39;00m other \u001b[39min\u001b[39;00m structures[\u001b[39m1\u001b[39m:]:\n\u001b[1;32m    433\u001b[0m   assert_same_structure(structures[\u001b[39m0\u001b[39m], other, check_types\u001b[39m=\u001b[39mcheck_types)\n\u001b[1;32m    434\u001b[0m \u001b[39mreturn\u001b[39;00m unflatten_as(structures[\u001b[39m0\u001b[39m],\n\u001b[0;32m--> 435\u001b[0m                     [func(\u001b[39m*\u001b[39margs) \u001b[39mfor\u001b[39;00m args \u001b[39min\u001b[39;00m \u001b[39mzip\u001b[39m(\u001b[39m*\u001b[39m\u001b[39mmap\u001b[39m(flatten, structures))])\n",
      "File \u001b[0;32m~/opt/anaconda3/envs/TradeMaster/lib/python3.9/site-packages/tree/__init__.py:435\u001b[0m, in \u001b[0;36m<listcomp>\u001b[0;34m(.0)\u001b[0m\n\u001b[1;32m    432\u001b[0m \u001b[39mfor\u001b[39;00m other \u001b[39min\u001b[39;00m structures[\u001b[39m1\u001b[39m:]:\n\u001b[1;32m    433\u001b[0m   assert_same_structure(structures[\u001b[39m0\u001b[39m], other, check_types\u001b[39m=\u001b[39mcheck_types)\n\u001b[1;32m    434\u001b[0m \u001b[39mreturn\u001b[39;00m unflatten_as(structures[\u001b[39m0\u001b[39m],\n\u001b[0;32m--> 435\u001b[0m                     [func(\u001b[39m*\u001b[39;49margs) \u001b[39mfor\u001b[39;00m args \u001b[39min\u001b[39;00m \u001b[39mzip\u001b[39m(\u001b[39m*\u001b[39m\u001b[39mmap\u001b[39m(flatten, structures))])\n",
      "File \u001b[0;32m~/opt/anaconda3/envs/TradeMaster/lib/python3.9/site-packages/ray/rllib/utils/torch_utils.py:161\u001b[0m, in \u001b[0;36mconvert_to_torch_tensor.<locals>.mapping\u001b[0;34m(item)\u001b[0m\n\u001b[1;32m    158\u001b[0m         tensor \u001b[39m=\u001b[39m torch\u001b[39m.\u001b[39mfrom_numpy(item)\n\u001b[1;32m    159\u001b[0m \u001b[39m# Everything else: Convert to numpy, then wrap as torch tensor.\u001b[39;00m\n\u001b[1;32m    160\u001b[0m \u001b[39melse\u001b[39;00m:\n\u001b[0;32m--> 161\u001b[0m     tensor \u001b[39m=\u001b[39m torch\u001b[39m.\u001b[39;49mfrom_numpy(np\u001b[39m.\u001b[39;49masarray(item))\n\u001b[1;32m    162\u001b[0m \u001b[39m# Floatify all float64 tensors.\u001b[39;00m\n\u001b[1;32m    163\u001b[0m \u001b[39mif\u001b[39;00m tensor\u001b[39m.\u001b[39mdtype \u001b[39m==\u001b[39m torch\u001b[39m.\u001b[39mdouble:\n",
      "\u001b[0;31mTypeError\u001b[0m: can't convert np.ndarray of type numpy.object_. The only supported types are: float64, float32, float16, complex64, complex128, int64, int32, int16, int8, uint8, and bool."
     ]
    }
   ],
   "source": [
    "from trademaster.utils import get_attr, save_object, load_object\n",
    "\n",
    "# model level saving & loading\n",
    "# torch.save(model.state_dict(), \"model.pkl\")\n",
    "# model.load_state_dict(torch.load(\"model.pkl\"))\n",
    "\n",
    "# trainer level saving & loading\n",
    "obj = pg_trainer2.save_to_object()\n",
    "save_object(obj, \"pg_trainer2.pkl\")\n",
    "# obj2 = load_object(\"pg_trainer2.pkl\")\n",
    "pg_trainer2.restore_from_object(obj)\n"
   ]
  },
  {
   "cell_type": "code",
   "execution_count": 5,
   "metadata": {},
   "outputs": [
    {
     "name": "stdout",
     "output_type": "stream",
     "text": [
      "2.4.0\n"
     ]
    }
   ],
   "source": [
    "import ray\n",
    "\n",
    "print(ray.__version__)"
   ]
  },
  {
   "cell_type": "code",
   "execution_count": null,
   "metadata": {},
   "outputs": [
    {
     "name": "stdout",
     "output_type": "stream",
     "text": [
      "PGTrainer\n"
     ]
    }
   ],
   "source": []
  },
  {
   "attachments": {},
   "cell_type": "markdown",
   "metadata": {},
   "source": [
    "## How to define your personal model"
   ]
  }
 ],
 "metadata": {
  "kernelspec": {
   "display_name": "Python 3 (ipykernel)",
   "language": "python",
   "name": "python3"
  },
  "language_info": {
   "codemirror_mode": {
    "name": "ipython",
    "version": 3
   },
   "file_extension": ".py",
   "mimetype": "text/x-python",
   "name": "python",
   "nbconvert_exporter": "python",
   "pygments_lexer": "ipython3",
   "version": "3.9.16"
  },
  "vscode": {
   "interpreter": {
    "hash": "a1f97403911abd3f02553c8f2b0c54537fddc7efadd9f5d3e31784db6e40c347"
   }
  }
 },
 "nbformat": 4,
 "nbformat_minor": 1
}
